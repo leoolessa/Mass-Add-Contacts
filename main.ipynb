{
 "cells": [
  {
   "cell_type": "code",
   "execution_count": 28,
   "metadata": {},
   "outputs": [
    {
     "data": {
      "text/plain": [
       "True"
      ]
     },
     "execution_count": 28,
     "metadata": {},
     "output_type": "execute_result"
    }
   ],
   "source": [
    "import os\n",
    "import time\n",
    "import datetime\n",
    "import pandas as pd\n",
    "\n",
    "from selenium import webdriver\n",
    "from selenium.webdriver.common.keys import Keys\n",
    "from selenium.webdriver.common.by import By\n",
    "from selenium.webdriver.support.ui import WebDriverWait\n",
    "from selenium.webdriver.support import expected_conditions as EC\n",
    "from selenium import webdriver\n",
    "from selenium.webdriver.support.ui import Select\n",
    "from selenium import webdriver\n",
    "\n",
    "from nltk.sentiment.vader import SentimentIntensityAnalyzer # pip install nltk\n",
    "from bs4 import BeautifulSoup # pip install beautifulsoup4\n",
    "\n",
    "from dotenv import load_dotenv # pip install python-dotenv\n",
    "load_dotenv()"
   ]
  },
  {
   "cell_type": "code",
   "execution_count": 49,
   "metadata": {},
   "outputs": [
    {
     "ename": "NoSuchElementException",
     "evalue": "Message: no such element: Unable to locate element: {\"method\":\"xpath\",\"selector\":\"//*[@id=\"global-nav-typeahead\"]/input\"}\n  (Session info: chrome=121.0.6167.185); For documentation on this error, please visit: https://www.selenium.dev/documentation/webdriver/troubleshooting/errors#no-such-element-exception\nStacktrace:\n\tGetHandleVerifier [0x00007FF673267012+3522402]\n\t(No symbol) [0x00007FF672E88352]\n\t(No symbol) [0x00007FF672D35ABB]\n\t(No symbol) [0x00007FF672D7BF0E]\n\t(No symbol) [0x00007FF672D7C08C]\n\t(No symbol) [0x00007FF672DBE437]\n\t(No symbol) [0x00007FF672D9F09F]\n\t(No symbol) [0x00007FF672DBBDA3]\n\t(No symbol) [0x00007FF672D9EE03]\n\t(No symbol) [0x00007FF672D6F4D4]\n\t(No symbol) [0x00007FF672D705F1]\n\tGetHandleVerifier [0x00007FF673299B9D+3730157]\n\tGetHandleVerifier [0x00007FF6732EF02D+4079485]\n\tGetHandleVerifier [0x00007FF6732E75D3+4048163]\n\tGetHandleVerifier [0x00007FF672FBA649+718233]\n\t(No symbol) [0x00007FF672E94A3F]\n\t(No symbol) [0x00007FF672E8FA94]\n\t(No symbol) [0x00007FF672E8FBC2]\n\t(No symbol) [0x00007FF672E7F2E4]\n\tBaseThreadInitThunk [0x00007FFCC99D257D+29]\n\tRtlUserThreadStart [0x00007FFCCA88AA58+40]\n",
     "output_type": "error",
     "traceback": [
      "\u001b[1;31m---------------------------------------------------------------------------\u001b[0m",
      "\u001b[1;31mNoSuchElementException\u001b[0m                    Traceback (most recent call last)",
      "Cell \u001b[1;32mIn[49], line 57\u001b[0m\n\u001b[0;32m     54\u001b[0m     soup \u001b[38;5;241m=\u001b[39m BeautifulSoup(html, \u001b[38;5;124m\"\u001b[39m\u001b[38;5;124mhtml.parser\u001b[39m\u001b[38;5;124m\"\u001b[39m)\n\u001b[0;32m     55\u001b[0m     \u001b[38;5;28;01mreturn\u001b[39;00m soup\n\u001b[1;32m---> 57\u001b[0m html \u001b[38;5;241m=\u001b[39m scraping_feed_off_linkedin (scrolling_time \u001b[38;5;241m=\u001b[39m \u001b[38;5;241m10\u001b[39m)\n",
      "Cell \u001b[1;32mIn[49], line 26\u001b[0m, in \u001b[0;36mscraping_feed_off_linkedin\u001b[1;34m(scrolling_time)\u001b[0m\n\u001b[0;32m     24\u001b[0m \u001b[38;5;66;03m# locate search box\u001b[39;00m\n\u001b[0;32m     25\u001b[0m search_name \u001b[38;5;241m=\u001b[39m \u001b[38;5;124m'\u001b[39m\u001b[38;5;124mIronhack\u001b[39m\u001b[38;5;124m'\u001b[39m\n\u001b[1;32m---> 26\u001b[0m search_box \u001b[38;5;241m=\u001b[39m driver\u001b[38;5;241m.\u001b[39mfind_element(By\u001b[38;5;241m.\u001b[39mXPATH, \u001b[38;5;124m'\u001b[39m\u001b[38;5;124m//*[@id=\u001b[39m\u001b[38;5;124m\"\u001b[39m\u001b[38;5;124mglobal-nav-typeahead\u001b[39m\u001b[38;5;124m\"\u001b[39m\u001b[38;5;124m]/input\u001b[39m\u001b[38;5;124m'\u001b[39m)\n\u001b[0;32m     28\u001b[0m \u001b[38;5;66;03m# sending information to box\u001b[39;00m\n\u001b[0;32m     29\u001b[0m search_box\u001b[38;5;241m.\u001b[39msend_keys(search_name)\n",
      "File \u001b[1;32mc:\\Users\\leona\\miniconda3\\Lib\\site-packages\\selenium\\webdriver\\remote\\webdriver.py:741\u001b[0m, in \u001b[0;36mWebDriver.find_element\u001b[1;34m(self, by, value)\u001b[0m\n\u001b[0;32m    738\u001b[0m     by \u001b[38;5;241m=\u001b[39m By\u001b[38;5;241m.\u001b[39mCSS_SELECTOR\n\u001b[0;32m    739\u001b[0m     value \u001b[38;5;241m=\u001b[39m \u001b[38;5;124mf\u001b[39m\u001b[38;5;124m'\u001b[39m\u001b[38;5;124m[name=\u001b[39m\u001b[38;5;124m\"\u001b[39m\u001b[38;5;132;01m{\u001b[39;00mvalue\u001b[38;5;132;01m}\u001b[39;00m\u001b[38;5;124m\"\u001b[39m\u001b[38;5;124m]\u001b[39m\u001b[38;5;124m'\u001b[39m\n\u001b[1;32m--> 741\u001b[0m \u001b[38;5;28;01mreturn\u001b[39;00m \u001b[38;5;28mself\u001b[39m\u001b[38;5;241m.\u001b[39mexecute(Command\u001b[38;5;241m.\u001b[39mFIND_ELEMENT, {\u001b[38;5;124m\"\u001b[39m\u001b[38;5;124musing\u001b[39m\u001b[38;5;124m\"\u001b[39m: by, \u001b[38;5;124m\"\u001b[39m\u001b[38;5;124mvalue\u001b[39m\u001b[38;5;124m\"\u001b[39m: value})[\u001b[38;5;124m\"\u001b[39m\u001b[38;5;124mvalue\u001b[39m\u001b[38;5;124m\"\u001b[39m]\n",
      "File \u001b[1;32mc:\\Users\\leona\\miniconda3\\Lib\\site-packages\\selenium\\webdriver\\remote\\webdriver.py:347\u001b[0m, in \u001b[0;36mWebDriver.execute\u001b[1;34m(self, driver_command, params)\u001b[0m\n\u001b[0;32m    345\u001b[0m response \u001b[38;5;241m=\u001b[39m \u001b[38;5;28mself\u001b[39m\u001b[38;5;241m.\u001b[39mcommand_executor\u001b[38;5;241m.\u001b[39mexecute(driver_command, params)\n\u001b[0;32m    346\u001b[0m \u001b[38;5;28;01mif\u001b[39;00m response:\n\u001b[1;32m--> 347\u001b[0m     \u001b[38;5;28mself\u001b[39m\u001b[38;5;241m.\u001b[39merror_handler\u001b[38;5;241m.\u001b[39mcheck_response(response)\n\u001b[0;32m    348\u001b[0m     response[\u001b[38;5;124m\"\u001b[39m\u001b[38;5;124mvalue\u001b[39m\u001b[38;5;124m\"\u001b[39m] \u001b[38;5;241m=\u001b[39m \u001b[38;5;28mself\u001b[39m\u001b[38;5;241m.\u001b[39m_unwrap_value(response\u001b[38;5;241m.\u001b[39mget(\u001b[38;5;124m\"\u001b[39m\u001b[38;5;124mvalue\u001b[39m\u001b[38;5;124m\"\u001b[39m, \u001b[38;5;28;01mNone\u001b[39;00m))\n\u001b[0;32m    349\u001b[0m     \u001b[38;5;28;01mreturn\u001b[39;00m response\n",
      "File \u001b[1;32mc:\\Users\\leona\\miniconda3\\Lib\\site-packages\\selenium\\webdriver\\remote\\errorhandler.py:229\u001b[0m, in \u001b[0;36mErrorHandler.check_response\u001b[1;34m(self, response)\u001b[0m\n\u001b[0;32m    227\u001b[0m         alert_text \u001b[38;5;241m=\u001b[39m value[\u001b[38;5;124m\"\u001b[39m\u001b[38;5;124malert\u001b[39m\u001b[38;5;124m\"\u001b[39m]\u001b[38;5;241m.\u001b[39mget(\u001b[38;5;124m\"\u001b[39m\u001b[38;5;124mtext\u001b[39m\u001b[38;5;124m\"\u001b[39m)\n\u001b[0;32m    228\u001b[0m     \u001b[38;5;28;01mraise\u001b[39;00m exception_class(message, screen, stacktrace, alert_text)  \u001b[38;5;66;03m# type: ignore[call-arg]  # mypy is not smart enough here\u001b[39;00m\n\u001b[1;32m--> 229\u001b[0m \u001b[38;5;28;01mraise\u001b[39;00m exception_class(message, screen, stacktrace)\n",
      "\u001b[1;31mNoSuchElementException\u001b[0m: Message: no such element: Unable to locate element: {\"method\":\"xpath\",\"selector\":\"//*[@id=\"global-nav-typeahead\"]/input\"}\n  (Session info: chrome=121.0.6167.185); For documentation on this error, please visit: https://www.selenium.dev/documentation/webdriver/troubleshooting/errors#no-such-element-exception\nStacktrace:\n\tGetHandleVerifier [0x00007FF673267012+3522402]\n\t(No symbol) [0x00007FF672E88352]\n\t(No symbol) [0x00007FF672D35ABB]\n\t(No symbol) [0x00007FF672D7BF0E]\n\t(No symbol) [0x00007FF672D7C08C]\n\t(No symbol) [0x00007FF672DBE437]\n\t(No symbol) [0x00007FF672D9F09F]\n\t(No symbol) [0x00007FF672DBBDA3]\n\t(No symbol) [0x00007FF672D9EE03]\n\t(No symbol) [0x00007FF672D6F4D4]\n\t(No symbol) [0x00007FF672D705F1]\n\tGetHandleVerifier [0x00007FF673299B9D+3730157]\n\tGetHandleVerifier [0x00007FF6732EF02D+4079485]\n\tGetHandleVerifier [0x00007FF6732E75D3+4048163]\n\tGetHandleVerifier [0x00007FF672FBA649+718233]\n\t(No symbol) [0x00007FF672E94A3F]\n\t(No symbol) [0x00007FF672E8FA94]\n\t(No symbol) [0x00007FF672E8FBC2]\n\t(No symbol) [0x00007FF672E7F2E4]\n\tBaseThreadInitThunk [0x00007FFCC99D257D+29]\n\tRtlUserThreadStart [0x00007FFCCA88AA58+40]\n"
     ]
    }
   ],
   "source": [
    "def scraping_feed_off_linkedin (scrolling_time = 5):\n",
    "    \n",
    "    # 1. Load env variables\n",
    "    email = os.getenv(\"email\")\n",
    "    password = os.getenv(\"password\")\n",
    "\n",
    "    # 2. Open the link\n",
    "    link = \"https://www.linkedin.com/login\"\n",
    "    driver = webdriver.Chrome()\n",
    "    driver.get(link)\n",
    "\n",
    "    # 3. Locate the elements to fill\n",
    "    email_box = driver.find_element(By.ID, \"username\")\n",
    "    password_box = driver.find_element(By.ID, \"password\")\n",
    "\n",
    "    # 4. Sending information to box\n",
    "    email_box.send_keys(email)\n",
    "    password_box.send_keys(password)\n",
    "\n",
    "    # 5. Hit enter\n",
    "    password_box.send_keys(Keys.RETURN)\n",
    "    \n",
    "    \n",
    "    # locate search box\n",
    "    search_name = 'Ironhack'\n",
    "    search_box = driver.find_element(By.XPATH, '//*[@id=\"global-nav-typeahead\"]/input')\n",
    "    \n",
    "    # sending information to box\n",
    "    search_box.send_keys(search_name)\n",
    "    \n",
    "    #hit enter\n",
    "    search_box.send_keys(Keys.RETURN)\n",
    "    search_box.send_keys(Keys.RETURN)\n",
    "    \n",
    "    page_box = driver.find_element(By.XPATH, '//*[@id=\"/6XyKh/vSSyAJ2b8vKQKUA==\"]/div/ul/li/div/a/div/div[2]/div[2]/div/a')\n",
    "    page_box.send_keys(Keys.RETURN)\n",
    "    # 6. Scrolling\n",
    "    \"\"\"\n",
    "    start_time = time.time()\n",
    "    while True:\n",
    "        driver.execute_script(\"window.scrollTo(0, document.body.scrollHeight);\")\n",
    "        time.sleep(1)\n",
    "        \n",
    "        end = time.time()\n",
    "        time_passed = end - start_time\n",
    "        now = datetime.datetime.fromtimestamp(time.time()).strftime('%c')\n",
    "        print(f\"time_passed: \", now)\n",
    "        \n",
    "        if time_passed > scrolling_time:\n",
    "            break\n",
    "    \"\"\"\n",
    "    # 7. Get HTML\n",
    "    html = driver.execute_script(\"return document.body.outerHTML;\")\n",
    "    soup = BeautifulSoup(html, \"html.parser\")\n",
    "    return soup\n",
    "\n",
    "html = scraping_feed_off_linkedin (scrolling_time = 10)"
   ]
  },
  {
   "cell_type": "code",
   "execution_count": 39,
   "metadata": {},
   "outputs": [
    {
     "ename": "AttributeError",
     "evalue": "type object 'By' has no attribute 'CLASS'",
     "output_type": "error",
     "traceback": [
      "\u001b[1;31m---------------------------------------------------------------------------\u001b[0m",
      "\u001b[1;31mAttributeError\u001b[0m                            Traceback (most recent call last)",
      "Cell \u001b[1;32mIn[39], line 1\u001b[0m\n\u001b[1;32m----> 1\u001b[0m html \u001b[38;5;241m=\u001b[39m scraping_feed_off_linkedin (scrolling_time \u001b[38;5;241m=\u001b[39m \u001b[38;5;241m10\u001b[39m)\n",
      "Cell \u001b[1;32mIn[38], line 34\u001b[0m, in \u001b[0;36mscraping_feed_off_linkedin\u001b[1;34m(scrolling_time)\u001b[0m\n\u001b[0;32m     31\u001b[0m \u001b[38;5;66;03m#hit enter\u001b[39;00m\n\u001b[0;32m     32\u001b[0m search_box\u001b[38;5;241m.\u001b[39msend_keys(Keys\u001b[38;5;241m.\u001b[39mRETURN)\n\u001b[1;32m---> 34\u001b[0m page_box \u001b[38;5;241m=\u001b[39m driver\u001b[38;5;241m.\u001b[39mfind_element(By\u001b[38;5;241m.\u001b[39mCLASS, \u001b[38;5;124m'\u001b[39m\u001b[38;5;124mapp-aware-link  full-width artdeco-button artdeco-button--default artdeco-button--2 artdeco-button--muted artdeco-button--secondary\u001b[39m\u001b[38;5;124m'\u001b[39m)\n\u001b[0;32m     35\u001b[0m page_box\u001b[38;5;241m.\u001b[39msend_keys(Keys\u001b[38;5;241m.\u001b[39mRETURN)\n\u001b[0;32m     36\u001b[0m \u001b[38;5;66;03m# 6. Scrolling\u001b[39;00m\n",
      "\u001b[1;31mAttributeError\u001b[0m: type object 'By' has no attribute 'CLASS'"
     ]
    }
   ],
   "source": [
    "html = scraping_feed_off_linkedin (scrolling_time = 10)"
   ]
  },
  {
   "cell_type": "code",
   "execution_count": null,
   "metadata": {},
   "outputs": [],
   "source": []
  }
 ],
 "metadata": {
  "kernelspec": {
   "display_name": "base",
   "language": "python",
   "name": "python3"
  },
  "language_info": {
   "codemirror_mode": {
    "name": "ipython",
    "version": 3
   },
   "file_extension": ".py",
   "mimetype": "text/x-python",
   "name": "python",
   "nbconvert_exporter": "python",
   "pygments_lexer": "ipython3",
   "version": "3.11.5"
  }
 },
 "nbformat": 4,
 "nbformat_minor": 2
}
